# Import libraries
import pandas as pd
import numpy as np


# importing Dataset
dataset = pd.read_csv("diabetes.csv")


# Replace 0 values with the mean/median of the respective feature
# Glucose
dataset["Glucose"] = dataset["Glucose"].replace(0, dataset["Glucose"].median())
# Blood Pressure
dataset["BloodPressure"] = dataset["BloodPressure"].replace(0, dataset["BloodPressure"].median())
# BMI
dataset["BMI"] = dataset["BMI"].replace(0, dataset["BMI"].mean())
# Skin Thickness
dataset["SkinThickness"] = dataset["SkinThickness"].replace(0, dataset["SkinThickness"].mean())
# Insulin
dataset["Insulin"] = dataset["Insulin"].replace(0, dataset["Insulin"].mean())


# splitting the dependent and independent variable
X = dataset.drop(["Outcome"], axis = 1)
y = dataset["Outcome"]


# splitting the dataset into training and testing dataset
from sklearn.model_selection import train_test_split
X_train, X_test, y_train, y_test = train_test_split(X, y, test_size=0.33, random_state=42)


# KNN
from sklearn.neighbors import KNeighborsClassifier

training_accuracy = []
test_accuracy = []
for n_neighbors in range(1, 11):
    knn = KNeighborsClassifier(n_neighbors=n_neighbors)
    knn.fit(X_train, y_train)

    # Check accuracy score
    training_accuracy.append(knn.score(X_train, y_train))
    test_accuracy.append(knn.score(X_test, y_test))

knn = KNeighborsClassifier(n_neighbors=9)
knn.fit(X_train, y_train)
print("Accuracy on KNN:")
print(knn.score(X_train, y_train), ": Training accuracy")
print(knn.score(X_test, y_test), ": Test accuracy")


# DecisionTreeClassifier
from sklearn.tree import DecisionTreeClassifier
dt = DecisionTreeClassifier(random_state=0, max_depth=3)
dt.fit(X_train, y_train)
print("Accuracy on Decision Tree Classifier:")
print(dt.score(X_train, y_train), ": Training accuracy")
print(dt.score(X_test, y_test), ": Test accuracy")


# MLP Classifier
from sklearn.neural_network import MLPClassifier
mlp = MLPClassifier(random_state=42)
mlp.fit(X_train, y_train)
print("Accuracy on MLP Classifier:")
print(mlp.score(X_train, y_train), ": Training accuracy")
print(mlp.score(X_test, y_test), ": Test accuracy")

#MLP Classifier after using Standard Scaler
from sklearn.preprocessing import StandardScaler
sc = StandardScaler()
X_train_scaled = sc.fit_transform(X_train)
X_test_scaled = sc.fit_transform(X_test)

mlp1 = MLPClassifier(random_state=0)
mlp1.fit(X_train_scaled, y_train)
print("Accuracy on MLP Classifier after using Standard Scaler:")
print(mlp1.score(X_train_scaled, y_train), ": Training accuracy")
print(mlp1.score(X_test_scaled, y_test), ": Test accuracy")
